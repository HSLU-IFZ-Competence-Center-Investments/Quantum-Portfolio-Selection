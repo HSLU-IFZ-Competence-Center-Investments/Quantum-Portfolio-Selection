{
 "cells": [
  {
   "cell_type": "markdown",
   "metadata": {},
   "source": [
    "## Find certain number"
   ]
  },
  {
   "cell_type": "code",
   "execution_count": 29,
   "metadata": {},
   "outputs": [],
   "source": [
    "import numpy as np\n",
    "from matplotlib import pyplot as plt\n",
    "\n",
    "import qiskit\n",
    "from qiskit import QuantumCircuit\n",
    "from qiskit_textbook.tools import array_to_latex\n",
    "from qiskit.tools.visualization import plot_histogram\n",
    "\n",
    "vector = qiskit.Aer.get_backend('statevector_simulator') \n",
    "unitary = qiskit.Aer.get_backend('unitary_simulator') \n",
    "simulator = qiskit.Aer.get_backend(\"qasm_simulator\")\n",
    "\n",
    "def execute_circ(circ,backend,**kwargs):\n",
    "    return qiskit.execute(circ,backend=backend,**kwargs).result()"
   ]
  },
  {
   "cell_type": "code",
   "execution_count": 39,
   "metadata": {},
   "outputs": [],
   "source": [
    "item = 6\n",
    "\n",
    "item_binary = [*map(int,np.binary_repr(item))]\n",
    "n = len(item_binary) # or np.ceil(np.log2(item+1))\n",
    "circ = QuantumCircuit(n,n)\n",
    "circ.h(circ.qubits)\n",
    "\n",
    "unitary = np.identity(2**n)\n",
    "index_to_negate = sum([i*2**k for k,i in enumerate(item_binary)])\n",
    "unitary[index_to_negate,index_to_negate] = -1\n",
    "circ.unitary(unitary,circ.qubits)\n",
    "circ.measure_all()\n",
    "\n",
    "winner_state = np.eye(1,n,index_to_negate)\n",
    "\n",
    "# array_to_latex(execute_circ(circ,simulator).get_counts())\n",
    "# execute_circ(circ,simulator).get_counts(circ)"
   ]
  },
  {
   "cell_type": "code",
   "execution_count": 33,
   "metadata": {},
   "outputs": [
    {
     "data": {
      "image/png": "[encoded data removed]",
      "text/plain": [
       "<Figure size 538.279x325.08 with 1 Axes>"
      ]
     },
     "execution_count": 33,
     "metadata": {},
     "output_type": "execute_result"
    }
   ],
   "source": [
    "circ.draw('mpl')"
   ]
  },
  {
   "cell_type": "markdown",
   "metadata": {},
   "source": [
    "## for $| 11 \\rangle$"
   ]
  },
  {
   "cell_type": "markdown",
   "metadata": {},
   "source": [
    "First get 1/2($\\left|00\\right\\rangle$+$\\left|01\\right\\rangle$+$\\left|10\\right\\rangle$+$\\left| 11 \\right\\rangle$)"
   ]
  },
  {
   "cell_type": "code",
   "execution_count": null,
   "metadata": {},
   "outputs": [],
   "source": [
    "grover = QuantumCircuit(2,2)\n",
    "grover.h([0,1])\n",
    "grover.draw(\"mpl\")\n",
    "\n",
    "final_state = execute(grover,backend = vector).result() \n",
    "final_matrix = execute(grover,backend = unitary).result() \n",
    "\n",
    "array_to_latex(final_state.get_statevector(),pretext = \"\\\\text{Statevector= }\")\n",
    "array_to_latex(final_matrix.get_unitary(),pretext = \"\\\\text{Circuit= }\")"
   ]
  },
  {
   "cell_type": "markdown",
   "metadata": {},
   "source": [
    "Create oracle which is a controlled z gate. Dunno why we need to create a gate out of a circuit instead of using cz directly."
   ]
  },
  {
   "cell_type": "code",
   "execution_count": null,
   "metadata": {},
   "outputs": [],
   "source": [
    "oracle = QuantumCircuit(2,name=\"oracle\")\n",
    "oracle.cz(0,1)\n",
    "oracle.to_gate()\n",
    "oracle.draw(\"mpl\");\n",
    "\n",
    "final_state = execute(oracle,backend = vector).result() \n",
    "final_matrix = execute(oracle,backend = unitary).result() \n",
    "\n",
    "array_to_latex(final_state.get_statevector(),pretext = \"\\\\text{Statevector= }\")\n",
    "array_to_latex(final_matrix.get_unitary(),pretext = \"\\\\text{Circuit= }\")"
   ]
  },
  {
   "cell_type": "code",
   "execution_count": null,
   "metadata": {},
   "outputs": [],
   "source": [
    "grover.append(oracle,[0,1])\n",
    "grover.draw(\"mpl\");"
   ]
  },
  {
   "cell_type": "code",
   "execution_count": null,
   "metadata": {},
   "outputs": [],
   "source": [
    "job = execute(grover,backend=vector)\n",
    "result = job.result()"
   ]
  },
  {
   "cell_type": "markdown",
   "metadata": {},
   "source": [
    "reflection around $|s'\\rangle$ $\\rightarrow$ $U_f$ $|s\\rangle$"
   ]
  },
  {
   "cell_type": "code",
   "execution_count": null,
   "metadata": {},
   "outputs": [],
   "source": [
    "sv = result.get_statevector()\n",
    "np.around(sv,2)"
   ]
  },
  {
   "cell_type": "markdown",
   "metadata": {},
   "source": [
    "reflection around $|s\\rangle \\rightarrow |s\\rangle \\langle s| + (|s\\rangle \\langle s|  - \\mathbb1)$"
   ]
  },
  {
   "cell_type": "code",
   "execution_count": null,
   "metadata": {},
   "outputs": [],
   "source": []
  }
 ],
 "metadata": {
  "kernelspec": {
   "display_name": "Python 3.10.0 ('MLinFin')",
   "language": "python",
   "name": "python3"
  },
  "language_info": {
   "codemirror_mode": {
    "name": "ipython",
    "version": 3
   },
   "file_extension": ".py",
   "mimetype": "text/x-python",
   "name": "python",
   "nbconvert_exporter": "python",
   "pygments_lexer": "ipython3",
   "version": "3.10.0"
  },
  "vscode": {
   "interpreter": {
    "hash": "2572c6a2b2e4e239d642d5c7ebe2be28c48a9dbca43f9e21b56d3b106b2cf02d"
   }
  }
 },
 "nbformat": 4,
 "nbformat_minor": 4
}
