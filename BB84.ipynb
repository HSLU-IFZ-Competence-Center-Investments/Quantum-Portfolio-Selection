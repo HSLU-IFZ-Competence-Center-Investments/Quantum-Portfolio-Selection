{
 "cells": [
  {
   "cell_type": "code",
   "execution_count": 14,
   "id": "ccdc068a-af71-4823-8cf1-8c1ccab1bfa0",
   "metadata": {
    "jupyter": {
     "source_hidden": true
    },
    "tags": []
   },
   "outputs": [],
   "source": [
    "import qiskit\n",
    "\n",
    "zero = qiskit.QuantumRegister(1)\n",
    "cr = qiskit.ClassicalRegister(1)\n",
    "circuit = qiskit.QuantumCircuit(zero,cr)\n",
    "\n",
    "circuit.x(zero)\n",
    "vector = qiskit.Aer.get_backend(\"statevector_simulator\")\n",
    "one = qiskit.execute(circuit,backend=vector).result().get_statevector()\n",
    "\n",
    "circuit = qiskit.QuantumCircuit(zero,cr)\n",
    "circuit.h(zero)\n",
    "plus = qiskit.execute(circuit,backend=vector).result().get_statevector()\n",
    "\n",
    "circuit = qiskit.QuantumCircuit(zero,cr)\n",
    "circuit.x(zero)\n",
    "circuit.h(zero)\n",
    "minus = qiskit.execute(circuit,backend=vector).result().get_statevector()\n"
   ]
  },
  {
   "cell_type": "code",
   "execution_count": 12,
   "id": "4bd6cddc-fe3b-4d9d-8999-243b9deb7c78",
   "metadata": {
    "tags": []
   },
   "outputs": [],
   "source": [
    "import numpy as np\n",
    "import pandas as pd\n",
    "import qiskit\n",
    "from matplotlib import pyplot as plt\n",
    "\n",
    "vector = qiskit.Aer.get_backend(\"statevector_simulator\")\n",
    "r = np.random.randint(4)\n",
    "\n",
    "def alice_random_state(number):\n",
    "    zero = qiskit.QuantumRegister(1)\n",
    "    cr = qiskit.ClassicalRegister(1)\n",
    "    circuit = qiskit.QuantumCircuit(zero,cr)\n",
    "\n",
    "    if number == 0:\n",
    "        # state 0\n",
    "        pass\n",
    "    elif number == 1:\n",
    "        # state 1\n",
    "        circuit.x(zero)\n",
    "    elif number == 2:\n",
    "        # state +\n",
    "        circuit.h(zero)\n",
    "    elif number == 3:\n",
    "        #state -\n",
    "        circuit.x(zero)\n",
    "        circuit.h(zero)\n",
    "    d = {0:\"zero\",1:\"one\",2:\"plus\",3:\"minus\"}\n",
    "#     print(f\"Alice sent {d[number]}\", \"state\")\n",
    "    return circuit , number\n",
    "\n",
    "\n",
    "\n",
    "def bob_measures():\n",
    "    circ, alice_state_no = alice_random_state(np.random.randint(4))\n",
    "    circ.measure(circ.qubits, circ.clbits)\n",
    "    alice_and_bob_have_same_basis = 0\n",
    "    if np.random.rand()<0.5:\n",
    "#         print(\"normal basis chosen by Bob\")\n",
    "        alice_and_bob_have_same_basis = alice_state_no < 2\n",
    "    else:\n",
    "#         print(\"prime basis chosen by Bob\")\n",
    "        alice_and_bob_have_same_basis = alice_state_no > 1\n",
    "        circ.h(circ.qubits)\n",
    "    \n",
    "    return np.array([alice_and_bob_have_same_basis , np.where(qiskit.execute(circ,backend=vector).result().get_statevector())[0][0]])\n",
    "\n",
    "def BB84_experiment(no_of_measurements):\n",
    "    return np.array([bob_measures() for i in range(no_of_measurements)])"
   ]
  },
  {
   "cell_type": "code",
   "execution_count": 13,
   "id": "36fa4bcf-33bb-4d1b-88d5-579927526353",
   "metadata": {},
   "outputs": [
    {
     "data": {
      "image/png": "[encoded data removed]",
      "text/plain": [
       "<Figure size 432x288 with 1 Axes>"
      ]
     },
     "metadata": {
      "needs_background": "light"
     },
     "output_type": "display_data"
    }
   ],
   "source": [
    "plt.hist([*map(lambda x: \" \".join(map(str,[*x])),BB84_experiment(100))],\"fd\",width=.2);"
   ]
  },
  {
   "cell_type": "code",
   "execution_count": null,
   "id": "733a5f32-bb03-460b-841f-e00248ddeefa",
   "metadata": {},
   "outputs": [],
   "source": []
  },
  {
   "cell_type": "code",
   "execution_count": null,
   "id": "ccba4f02-d93b-46af-a084-37a8563d2929",
   "metadata": {},
   "outputs": [],
   "source": []
  }
 ],
 "metadata": {
  "kernelspec": {
   "display_name": "Python 3.10.0 ('MLinFin')",
   "language": "python",
   "name": "python3"
  },
  "language_info": {
   "codemirror_mode": {
    "name": "ipython",
    "version": 3
   },
   "file_extension": ".py",
   "mimetype": "text/x-python",
   "name": "python",
   "nbconvert_exporter": "python",
   "pygments_lexer": "ipython3",
   "version": "3.10.0"
  },
  "vscode": {
   "interpreter": {
    "hash": "2572c6a2b2e4e239d642d5c7ebe2be28c48a9dbca43f9e21b56d3b106b2cf02d"
   }
  }
 },
 "nbformat": 4,
 "nbformat_minor": 5
}
