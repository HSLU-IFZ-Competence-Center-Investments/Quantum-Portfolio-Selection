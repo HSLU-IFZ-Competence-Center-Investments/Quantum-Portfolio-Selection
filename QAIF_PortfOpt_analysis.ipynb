{
 "cells": [
  {
   "cell_type": "code",
   "execution_count": 1,
   "metadata": {},
   "outputs": [],
   "source": [
    "import math\n",
    "import numpy as np\n",
    "from matplotlib import pyplot as plt"
   ]
  },
  {
   "cell_type": "markdown",
   "metadata": {},
   "source": [
    "How many qubits needed dependent on N"
   ]
  },
  {
   "cell_type": "code",
   "execution_count": 2,
   "metadata": {},
   "outputs": [
    {
     "data": {
      "text/plain": [
       "[<matplotlib.lines.Line2D at 0x7f8d4b05be20>]"
      ]
     },
     "execution_count": 2,
     "metadata": {},
     "output_type": "execute_result"
    },
    {
     "data": {
      "image/png": "[encoded data removed]",
      "text/plain": [
       "<Figure size 432x288 with 1 Axes>"
      ]
     },
     "metadata": {
      "needs_background": "light"
     },
     "output_type": "display_data"
    }
   ],
   "source": [
    "desired_end_proba = 0.8\n",
    "\n",
    "def my_func(N):\n",
    "\n",
    "    m = math.ceil(math.log2(N)/2 + 1.58)\n",
    "    eps = (1-desired_end_proba)/math.log2(N)\n",
    "    t = m + math.ceil(math.log2(2 + 0.5/eps))\n",
    "    total_qubits = math.ceil(math.log2(N)) + 1 + t\n",
    "    \n",
    "    return total_qubits\n",
    "\n",
    "def my_func_2_x(N):\n",
    "\n",
    "    m = math.ceil(N/2 + 1.58)\n",
    "    eps = (1-desired_end_proba)/N\n",
    "    t = m + math.ceil(math.log2(2 + 0.5/eps))\n",
    "    total_qubits = math.ceil(N) + 1 + t\n",
    "\n",
    "    return total_qubits\n",
    "\n",
    "N_range = range(4,10**10,int(1e4))\n",
    "a,b = np.polyfit(N_range,[my_func_2_x(i) for i in N_range],1)\n",
    "\n",
    "# plt.plot(N_range,[my_func_2_x(i) for i in N_range],'g')\n",
    "# plt.plot(N_range,[a*i+b for i in N_range],'b')\n",
    "\n",
    "plt.plot(N_range,[my_func(i) for i in N_range])\n",
    "plt.plot(N_range,[a*math.log2(i)+b for i in N_range])"
   ]
  }
 ],
 "metadata": {
  "kernelspec": {
   "display_name": "Python 3.10.0 ('MLinFin')",
   "language": "python",
   "name": "python3"
  },
  "language_info": {
   "codemirror_mode": {
    "name": "ipython",
    "version": 3
   },
   "file_extension": ".py",
   "mimetype": "text/x-python",
   "name": "python",
   "nbconvert_exporter": "python",
   "pygments_lexer": "ipython3",
   "version": "3.10.0"
  },
  "orig_nbformat": 4,
  "vscode": {
   "interpreter": {
    "hash": "2572c6a2b2e4e239d642d5c7ebe2be28c48a9dbca43f9e21b56d3b106b2cf02d"
   }
  }
 },
 "nbformat": 4,
 "nbformat_minor": 2
}
