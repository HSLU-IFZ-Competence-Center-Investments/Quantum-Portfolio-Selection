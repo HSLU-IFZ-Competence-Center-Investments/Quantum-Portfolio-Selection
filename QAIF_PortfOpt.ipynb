{
 "cells": [
  {
   "cell_type": "markdown",
   "metadata": {},
   "source": [
    "# Portfolio Optimization\n",
    "### For https://www.hslu.ch/de-ch/hochschule-luzern/forschung/projekte/detail/?pid=5520"
   ]
  },
  {
   "cell_type": "code",
   "execution_count": 2,
   "metadata": {},
   "outputs": [],
   "source": [
    "import numpy as np"
   ]
  },
  {
   "cell_type": "code",
   "execution_count": 4,
   "metadata": {},
   "outputs": [
    {
     "data": {
      "text/plain": [
       "array([ 2., 20.])"
      ]
     },
     "execution_count": 4,
     "metadata": {},
     "output_type": "execute_result"
    }
   ],
   "source": [
    "returns/stds"
   ]
  },
  {
   "cell_type": "code",
   "execution_count": 3,
   "metadata": {},
   "outputs": [],
   "source": [
    "returns = np.array([0.1,0.2])\n",
    "stds = np.array([0.05,0.01])\n",
    "corr = 0.5\n",
    "\n",
    "s_above = 6\n",
    "s_below = 0\n",
    "s_threshold = (s_above + s_below)/2\n",
    "\n",
    "def precalculate_solutions(returns,stds,s_threshold):\n",
    "    sharpe_ratios = returns/stds\n",
    "    return \n"
   ]
  },
  {
   "cell_type": "code",
   "execution_count": null,
   "metadata": {},
   "outputs": [],
   "source": []
  },
  {
   "cell_type": "code",
   "execution_count": null,
   "metadata": {},
   "outputs": [],
   "source": [
    "# From https://github.com/ix-stefstet/qaif\n",
    "\n",
    "def calculate_truth_table_string(s_threshold):\n",
    "    r_1 = 1  # return deviation asset 1\n",
    "    r_2 = 2  # return deviation asset 2\n",
    "\n",
    "    sigma_1 = 3  # standard deviation asset 1\n",
    "    sigma_2 = 2  # standard deviation asset 2\n",
    "\n",
    "    cor = 0.5  # Correlation between asset 1 and 2, lies between 0 and 1\n",
    "\n",
    "    s = ''\n",
    "    for i in range(0, 4):\n",
    "        s += is_sharpe_ratio_above_threshold(i, r_1, r_2, sigma_1, sigma_2, cor, s_threshold)\n",
    "\n",
    "    return s  # Truth table string\n",
    "\n",
    "\n",
    "def is_sharpe_ratio_above_threshold(allocation_in_asset1, r_1, r_2, sigma_1, sigma_2, cor, threshold):\n",
    "    w_1 = allocation_in_asset1 / 3  # Allocation in Asset 1\n",
    "    w_2 = 1 - w_1  # Allocation in Asset 1\n",
    "\n",
    "    r = w_1 * r_1 + w_2 * r_2  # Portfolio return\n",
    "\n",
    "    # Portfolio standard deviation\n",
    "    std = (w_1 ** 2 * sigma_1 ** 2 + w_2 ** 2 * sigma_2 ** 2 + 2 * cor * w_1 * w_2 * sigma_1 * sigma_2) ** 0.5\n",
    "\n",
    "    sharpe = r / std  # Sharpe ratio\n",
    "    print(\"SHARPE:\",sharpe)\n",
    "\n",
    "    if sharpe > threshold:\n",
    "        return '1'\n",
    "    else:\n",
    "        return '0'\n",
    "\n",
    "\n",
    "s_above = 6\n",
    "s_below = 0\n",
    "\n",
    "while abs(s_above - s_below) > 0.01:\n",
    "    print('-' * 45)\n",
    "\n",
    "    s_threshold = (s_above + s_below) / 2\n",
    "    print(f\"s_above: {s_above} , s_threshold: {s_threshold}, s_below: {s_below}\")\n",
    "\n",
    "    bit_string = calculate_truth_table_string(s_threshold)\n",
    "    number_of_oracle_qubits = int(np.log2(len(bit_string)))\n",
    "\n",
    "    quantum_counting = QuantumCounting(\n",
    "        number_of_oracle_qubits=number_of_oracle_qubits\n",
    "    )\n",
    "    number_of_solutions, upper_error_bound = quantum_counting.quantum_counting_with_bitstring(\n",
    "        bit_string=bit_string,\n",
    "    )\n",
    "\n",
    "    print('%-14s | %-14s' % ('Measured #Sol', 'Error Bound'))\n",
    "    print('%-14.1f | %-14.2f' % (number_of_solutions, upper_error_bound))\n",
    "\n",
    "    if number_of_solutions == 0:\n",
    "        s_above = s_threshold\n",
    "    else:\n",
    "        s_below = s_threshold\n"
   ]
  }
 ],
 "metadata": {
  "kernelspec": {
   "display_name": "Python 3.10.0 ('MLinFin')",
   "language": "python",
   "name": "python3"
  },
  "language_info": {
   "codemirror_mode": {
    "name": "ipython",
    "version": 3
   },
   "file_extension": ".py",
   "mimetype": "text/x-python",
   "name": "python",
   "nbconvert_exporter": "python",
   "pygments_lexer": "ipython3",
   "version": "3.10.0"
  },
  "orig_nbformat": 4,
  "vscode": {
   "interpreter": {
    "hash": "2572c6a2b2e4e239d642d5c7ebe2be28c48a9dbca43f9e21b56d3b106b2cf02d"
   }
  }
 },
 "nbformat": 4,
 "nbformat_minor": 2
}
