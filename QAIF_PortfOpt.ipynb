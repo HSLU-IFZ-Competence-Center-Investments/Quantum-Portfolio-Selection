{
 "cells": [
  {
   "attachments": {},
   "cell_type": "markdown",
   "metadata": {},
   "source": [
    "# Grover Search for Portfolio Selection\n",
    "We explore the quantum version of selecting list items by\n",
    "a given condition, also known as (list) slicing by condition.\n",
    "Here, the list items are numbers and we are interested in\n",
    "taking list elements larger/smaller than a given number. By\n",
    "means of binary search, the proposed method can be used as\n",
    "a maximum/minimum function.\n",
    "\n",
    "Consider that the efficient frontier of a portfolio universe is\n",
    "calculated and presented to an investor, who would like to\n",
    "choose portfolios among these optimal ones. More specifically,\n",
    "it would be two lists of numbers, where one is the list\n",
    "of returns and the other the list of corresponding standard\n",
    "deviations of the optimal portfolios. In this case, Quantum Exponential Search\n",
    "can be used to do the filtering that maximizes\n",
    "the investor’s preferences, e.g. \"pick portfolios with return\n",
    "larger than x% and standard deviation less than y\". Another\n",
    "case would be picking the portfolio with the best sharpe ratio,\n",
    "which is achieved by employing Grover Adaptive Search."
   ]
  },
  {
   "attachments": {},
   "cell_type": "markdown",
   "metadata": {},
   "source": [
    "## Import Libraries"
   ]
  },
  {
   "cell_type": "code",
   "execution_count": 1,
   "metadata": {},
   "outputs": [],
   "source": [
    "import sys\n",
    "\n",
    "import math\n",
    "\n",
    "import numpy as np\n",
    "\n",
    "from utils.gates import GreaterThanGate,LessThanGate\n",
    "from utils.algorithms.grover import mQCS,GAS\n",
    "from utils.algorithms.counting import get_count\n",
    "from matplotlib import pyplot as plt\n",
    "\n",
    "np.random.seed(1)"
   ]
  },
  {
   "attachments": {},
   "cell_type": "markdown",
   "metadata": {},
   "source": [
    "## Data"
   ]
  },
  {
   "attachments": {},
   "cell_type": "markdown",
   "metadata": {},
   "source": [
    "### Importing Efficient Frontier"
   ]
  },
  {
   "cell_type": "code",
   "execution_count": 2,
   "metadata": {},
   "outputs": [
    {
     "data": {
      "text/plain": [
       "Text(0.5, 1.0, 'Efficient Frontier')"
      ]
     },
     "execution_count": 2,
     "metadata": {},
     "output_type": "execute_result"
    },
    {
     "data": {
      "image/png": "[encoded data removed]",
      "text/plain": [
       "<Figure size 1000x300 with 1 Axes>"
      ]
     },
     "metadata": {},
     "output_type": "display_data"
    }
   ],
   "source": [
    "# 10 assets\n",
    "optimal_risk_return_pairs = np.load('./return_risk_for_QAIF.npy')\n",
    "returns, risks = optimal_risk_return_pairs.transpose()\n",
    "risks = np.sqrt(risks)\n",
    "\n",
    "plt.figure(figsize=(10, 3))\n",
    "plt.plot(risks, returns, 'o', markersize=5)\n",
    "plt.xlabel('Standard Deviation')\n",
    "plt.ylabel('Expected Return')\n",
    "plt.title('Efficient Frontier')"
   ]
  },
  {
   "attachments": {},
   "cell_type": "markdown",
   "metadata": {},
   "source": [
    "### Subsample data\n",
    "We take subsamples from the actual data because the number of qubits required to hold all the values is too high in terms of the required memory."
   ]
  },
  {
   "cell_type": "code",
   "execution_count": 3,
   "metadata": {},
   "outputs": [],
   "source": [
    "n_iqb = 3 # Number of index qubits\n",
    "\n",
    "N = 2**n_iqb\n",
    "returns, risks = optimal_risk_return_pairs.transpose()\n",
    "risks = np.sqrt(risks)\n",
    "subsample_complete = False\n",
    "while not subsample_complete:\n",
    "    subsample_indices = np.random.choice(len(returns),N)\n",
    "    subsample_complete = np.unique(subsample_indices).size == subsample_indices.size\n",
    "returns = returns[subsample_indices]\n",
    "risks = risks[subsample_indices]"
   ]
  },
  {
   "attachments": {},
   "cell_type": "markdown",
   "metadata": {},
   "source": [
    "### Risks and Returns"
   ]
  },
  {
   "cell_type": "code",
   "execution_count": 4,
   "metadata": {},
   "outputs": [
    {
     "name": "stdout",
     "output_type": "stream",
     "text": [
      "[0.08015615 0.04755195 0.1065935  0.0448151  0.10867272 0.04211789\n",
      " 0.11151044 0.1012755 ]\n",
      "[0.02201008 0.01364281 0.02667475 0.0125437  0.02697515 0.01107822\n",
      " 0.02737567 0.0258737 ]\n"
     ]
    }
   ],
   "source": [
    "print(risks)\n",
    "print(returns)"
   ]
  },
  {
   "attachments": {},
   "cell_type": "markdown",
   "metadata": {},
   "source": [
    "## Experiments"
   ]
  },
  {
   "attachments": {},
   "cell_type": "markdown",
   "metadata": {},
   "source": [
    "### 1) Find portfolios with returns more than $r_{threshold}$ and standard deviation less than $\\sigma_{threshold}$."
   ]
  },
  {
   "attachments": {},
   "cell_type": "markdown",
   "metadata": {},
   "source": [
    "This is a Conditional Slicing problem with two lists and conditions. We solve it with $\\textbf{Quantum Exponential Search}$."
   ]
  },
  {
   "cell_type": "code",
   "execution_count": 5,
   "metadata": {},
   "outputs": [
    {
     "name": "stdout",
     "output_type": "stream",
     "text": [
      "(Classical) Solutions with indices: [0, 2, 4, 7] O(sqrt(N/M))= 1.4142135623730951\n",
      "(Quantum) Solution:4\n"
     ]
    }
   ],
   "source": [
    "d = 0.01 #resolving power of GT-gate\n",
    "r_threshold = 0.02\n",
    "sigma_threshold= 0.11\n",
    "##############\n",
    "\n",
    "N = 2**n_iqb\n",
    "t = math.ceil(-math.log2(d)) # for greater-than / phase estimation\n",
    "\n",
    "assert np.any(returns>r_threshold)\n",
    "assert np.any(risks<sigma_threshold)\n",
    "solutions = np.where((returns>r_threshold)*(risks<sigma_threshold))[0].tolist()\n",
    "no_of_solutions = len(solutions)\n",
    "print('(Classical) Solutions with indices:', solutions,'O(sqrt(N/M))=',np.sqrt(N/no_of_solutions))\n",
    "\n",
    "f_check = lambda x: (returns[x]>r_threshold)*(risks[x]<sigma_threshold)\n",
    "\n",
    "index_,_ = mQCS([returns,risks],[r_threshold,sigma_threshold],[GreaterThanGate(t),LessThanGate(t)],f_check=f_check)\n",
    "\n",
    "print(f'(Quantum) Solution:{index_}')"
   ]
  },
  {
   "attachments": {},
   "cell_type": "markdown",
   "metadata": {},
   "source": [
    "### 2) Find portfolios with the best Sharpe ratio."
   ]
  },
  {
   "attachments": {},
   "cell_type": "markdown",
   "metadata": {},
   "source": [
    "We find the maximum value using $\\textbf{Grover Adaptive Search}$."
   ]
  },
  {
   "cell_type": "code",
   "execution_count": 6,
   "metadata": {},
   "outputs": [
    {
     "data": {
      "text/plain": [
       "array([0.27459001, 0.28690324, 0.25024746, 0.27989898, 0.24822371,\n",
       "       0.2630289 , 0.24549872, 0.25547841])"
      ]
     },
     "execution_count": 6,
     "metadata": {},
     "output_type": "execute_result"
    }
   ],
   "source": [
    "sharpes = returns/risks\n",
    "sharpes"
   ]
  },
  {
   "cell_type": "code",
   "execution_count": 7,
   "metadata": {},
   "outputs": [
    {
     "name": "stdout",
     "output_type": "stream",
     "text": [
      "(Classical) Maximum Sharpe Ratio: 0.28690324462564365 with index 1\n",
      "(Quantum) Solution:1\n"
     ]
    }
   ],
   "source": [
    "print('(Classical) Maximum Sharpe Ratio:', sharpes.max(),'with index',np.where(sharpes==sharpes.max())[0].item())\n",
    "print(f'(Quantum) Solution:{GAS(sharpes,d)}')"
   ]
  }
 ],
 "metadata": {
  "kernelspec": {
   "display_name": "MLinFin",
   "language": "python",
   "name": "python3"
  },
  "language_info": {
   "codemirror_mode": {
    "name": "ipython",
    "version": 3
   },
   "file_extension": ".py",
   "mimetype": "text/x-python",
   "name": "python",
   "nbconvert_exporter": "python",
   "pygments_lexer": "ipython3",
   "version": "3.10.9"
  },
  "orig_nbformat": 4,
  "vscode": {
   "interpreter": {
    "hash": "2572c6a2b2e4e239d642d5c7ebe2be28c48a9dbca43f9e21b56d3b106b2cf02d"
   }
  }
 },
 "nbformat": 4,
 "nbformat_minor": 2
}
