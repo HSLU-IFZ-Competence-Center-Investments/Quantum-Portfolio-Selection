{
 "cells": [
  {
   "attachments": {},
   "cell_type": "markdown",
   "metadata": {},
   "source": [
    "# Portfolio Selection\n",
    "### For https://www.hslu.ch/de-ch/hochschule-luzern/forschung/projekte/detail/?pid=5520"
   ]
  },
  {
   "cell_type": "code",
   "execution_count": 1,
   "metadata": {},
   "outputs": [],
   "source": [
    "import math,heapq\n",
    "import numpy as np\n",
    "import pandas as pd\n",
    "\n",
    "from qiskit.circuit import QuantumCircuit\n",
    "from qiskit.tools.visualization import plot_histogram\n",
    "from qiskit.circuit.library import PhaseGate\n",
    "\n",
    "from utils.misc import *\n",
    "from utils.algorithms.phase_estimator import get_t\n",
    "from utils.algorithms.grover import get_diffuser,GroverSolver\n",
    "from utils.algorithms.counting import get_count\n",
    "from utils.gates import GreaterThanGate,PhaseEstimatorGate\n"
   ]
  },
  {
   "cell_type": "code",
   "execution_count": 2,
   "metadata": {},
   "outputs": [],
   "source": [
    "no_of_assets_to_consider = 2\n",
    "\n",
    "data = pd.read_excel('utils/port_opt_data.xlsx')\n",
    "\n",
    "returns = data.iloc[1:,1:no_of_assets_to_consider+1].pct_change().dropna()\n",
    "mu = returns.mean().values[:,None]\n",
    "\n",
    "cov = returns.cov().values\n",
    "\n",
    "f_risk = lambda x: np.einsum('...i,...i->...', x.T.dot(cov), x.T)\n",
    "f_return = lambda x: np.dot(mu.T,x).ravel()\n",
    "\n",
    "def get_sharpe(w):\n",
    "    portf_return = f_return(w).item()\n",
    "    portf_std = np.sqrt(f_risk(w))\n",
    "    return portf_return/portf_std"
   ]
  },
  {
   "cell_type": "code",
   "execution_count": 3,
   "metadata": {},
   "outputs": [
    {
     "name": "stdout",
     "output_type": "stream",
     "text": [
      "[1.1 1.3 1.4 1.4 1.4 1.3 1.2 1. ]\n",
      "6 4 16\n"
     ]
    }
   ],
   "source": [
    "####################################\n",
    "s_above = 2\n",
    "s_below = 1\n",
    "\n",
    "min_success_chance = 0.97 # desired minimum propagated success chance at the end of quantum counting\n",
    "c = 10; k_ = 1 # search resolution: d := c^-k_\n",
    "n_state = 3 # number of grover solution qubits. 2**n_state portfolios will be considered\n",
    "find_M_exact = False\n",
    "####################################\n",
    "\n",
    "# Omega_d = [s_below]\n",
    "# while Omega_d[-1]<s_above:\n",
    "#     Omega_d.append(Omega_d[-1]+d)\n",
    "# Omega_d\n",
    "\n",
    "d = c**-k_\n",
    "\n",
    "fail_chance = (1-min_success_chance)/math.ceil(math.log2(s_above-s_below) + k_*math.log2(c))\n",
    "assert fail_chance < 0.01 , fail_chance\n",
    "success_chance = 1- fail_chance\n",
    "\n",
    "N = 2**n_state\n",
    "if find_M_exact:\n",
    "    bit_accuracy = math.ceil(np.log2(N) + 0.5) # for quantum counting (M exact)\n",
    "else:\n",
    "    bit_accuracy = math.ceil(np.log2(N)/2 + 1.58) # for quantum counting (M not exact)\n",
    "t = math.ceil(k_*math.log2(c) + math.log2(math.pi)) + 1 # for greater-than / phase estimation\n",
    "n = n_state + 2*t + 1 # n_state + t (qpe) + t (threshold) + 1 (out)\n",
    "\n",
    "ws = [np.array([w1,1-w1]) for w1 in np.linspace(0,1,2**n_state)] # N = 2**n_state many portfolios\n",
    "phases = np.array([*map(get_sharpe,ws)]).round(2)*10 # sharpe ratios of portfolios\n",
    "# phases = np.array([0.1,0.4,0.2,0.4])\n",
    "# phases = np.arange(0.1,0.9,0.1)\n",
    "\n",
    "assert np.all(phases<2*np.pi)\n",
    "print(phases)\n",
    "print(t,bit_accuracy,n)\n",
    "\n",
    "# post-adjustments\n",
    "success_chance = 0.75\n",
    "\n"
   ]
  },
  {
   "cell_type": "code",
   "execution_count": 4,
   "metadata": {},
   "outputs": [
    {
     "name": "stdout",
     "output_type": "stream",
     "text": [
      "(Classical Calculation) The portfolio with the best sharpe ratio is: portfolio no. 2\n",
      "s_above: 2 , s_threshold: 1.5, s_below: 1\n",
      "---------------------------------------------\n",
      "t:  6 grover_op.num_qubits:  16\n",
      "Measured #Sol  | Error Bound   \n",
      "0.0            | 0.01          \n",
      "s_above: 1.5 , s_threshold: 1.2, s_below: 1\n",
      "---------------------------------------------\n",
      "t:  6 grover_op.num_qubits:  16\n",
      "Measured #Sol  | Error Bound   \n",
      "5.2            | 0.41          \n",
      "s_above: 1.5 , s_threshold: 1.4, s_below: 1.2\n",
      "---------------------------------------------\n",
      "t:  6 grover_op.num_qubits:  16\n",
      "Measured #Sol  | Error Bound   \n",
      "0.0            | 0.01          \n",
      "s_above: 1.4 , s_threshold: 1.3, s_below: 1.2\n",
      "---------------------------------------------\n",
      "t:  6 grover_op.num_qubits:  16\n",
      "Measured #Sol  | Error Bound   \n",
      "2.8            | 0.31          \n",
      "--------------------------------------------- \n",
      "\n"
     ]
    }
   ],
   "source": [
    "print('(Classical Calculation) The portfolio with the best sharpe ratio is: portfolio no.',np.argmax(phases))\n",
    "\n",
    "unitary = np.diag([np.e**(i*1j) for i in phases]+(N-len(phases))*[1])\n",
    "unitary = matrix_to_gate(unitary_mat=unitary,to_gate=True)\n",
    "\n",
    "grover_eigstate = QuantumCircuit(n)\n",
    "grover_eigstate.x(-1)\n",
    "grover_eigstate.h(grover_eigstate.qubits[:n_state]+[n-1])\n",
    "\n",
    "diffuser = get_diffuser(n_state)\n",
    "\n",
    "oracle = QuantumCircuit(n)\n",
    "oracle.compose(PhaseEstimatorGate(unitary,t),inplace=True)\n",
    "oracle.compose(GreaterThanGate(t),[*range(n_state,t+n_state)]+[*range(t+n_state,2*t+n_state)]+[n-1],inplace=True)\n",
    "oracle.compose(PhaseEstimatorGate(unitary,t).inverse(),inplace=True)\n",
    "\n",
    "grover_op = QuantumCircuit(n)\n",
    "grover_op.compose(oracle.to_gate(),grover_op.qubits,inplace=True)\n",
    "grover_op.compose(diffuser.to_gate(),grover_op.qubits[:n_state],inplace=True)\n",
    "\n",
    "# Adjust the grover operator with (classically) obtained oracles at each iteration, \n",
    "# until the portfolio with the highest sharpe ratio is found, bzw. its corresponding grover operator\n",
    "no_of_solutions = 0\n",
    "while round(s_above - s_below,k_) > d and not no_of_solutions == 1:\n",
    "\n",
    "    s_threshold = (s_above + s_below) / 2\n",
    "    s_threshold = round(s_threshold,k_)\n",
    "    assert s_threshold < 2*math.pi\n",
    "    print(f\"s_above: {s_above} , s_threshold: {s_threshold}, s_below: {s_below}\")\n",
    "\n",
    "    s_threshold_bits = float2binary(s_threshold/2/math.pi,t)\n",
    "    for k,i in enumerate(s_threshold_bits[::-1]):\n",
    "        temp = int(i)\n",
    "        if temp:\n",
    "            grover_eigstate.x(t+n_state+k)\n",
    "    \n",
    "    print('-' * 45)\n",
    "\n",
    "    no_of_solutions, theta, err = get_count(bit_accuracy,success_chance,grover_op,grover_eigstate,n=n_state)\n",
    "    \n",
    "    print('%-14s | %-14s' % ('Measured #Sol', 'Error Bound'))\n",
    "    print('%-14.1f | %-14.2f' % (no_of_solutions, err))\n",
    "\n",
    "    no_of_solutions = round(no_of_solutions)\n",
    "    if no_of_solutions == 0:\n",
    "        s_above = s_threshold\n",
    "    else:\n",
    "        s_below = s_threshold\n",
    "\n",
    "    for k,i in enumerate(s_threshold_bits[::-1]):\n",
    "        temp = int(i)\n",
    "        if temp:\n",
    "            grover_eigstate.x(t+n_state+k)\n",
    "\n",
    "print('-' * 45,'\\n')\n",
    "\n",
    "for k,i in enumerate(s_threshold_bits[::-1]):\n",
    "    temp = int(i)\n",
    "    if temp:\n",
    "        grover_eigstate.x(t+n_state+k)"
   ]
  },
  {
   "cell_type": "code",
   "execution_count": 5,
   "metadata": {},
   "outputs": [
    {
     "name": "stdout",
     "output_type": "stream",
     "text": [
      "Number of calls to the oracle: 1\n",
      "(Quantum Calculation) The portfolio with the best sharpe ratio is: portfolio no. 3\n",
      "Note that the bits are shown in reverse order on the histogram.\n"
     ]
    },
    {
     "data": {
      "image/png": "[encoded data removed]",
      "text/plain": [
       "<Figure size 504x360 with 1 Axes>"
      ]
     },
     "execution_count": 5,
     "metadata": {},
     "output_type": "execute_result"
    }
   ],
   "source": [
    "# Now that we have found the correct threshold, we can do amplification. \n",
    "\n",
    "assert theta != 0\n",
    "t_grover = round(0.5 * (np.pi/abs(theta-math.pi) - 1))\n",
    "# t_grover = round(0.5 * (np.pi/(2*np.arcsin(np.sqrt(no_of_solutions/N))) - 1))\n",
    "print('Number of calls to the oracle:',t_grover)\n",
    "circ = QuantumCircuit(grover_op.num_qubits)\n",
    "circ.compose(grover_eigstate.to_gate(),inplace=True)\n",
    "for _ in range(t_grover):\n",
    "    circ.compose(grover_op.to_gate(),inplace=True)\n",
    "\n",
    "counts = get_counts(circ,circ.qubits[:n_state])\n",
    "\n",
    "print('(Quantum Calculation) The portfolio with the best sharpe ratio is: portfolio no.',int(max(counts, key=counts.get)[::-1],2))\n",
    "print('Note that the bits are shown in reverse order on the histogram.')\n",
    "\n",
    "plot_histogram(counts)\n"
   ]
  },
  {
   "cell_type": "code",
   "execution_count": 19,
   "metadata": {},
   "outputs": [
    {
     "name": "stdout",
     "output_type": "stream",
     "text": [
      "Solutions:  3 2 4\n"
     ]
    }
   ],
   "source": [
    "solutions = heapq.nlargest(no_of_solutions,counts,counts.get)\n",
    "print(\"Solutions: \",*map(lambda x: int(x[::-1],2),solutions))"
   ]
  }
 ],
 "metadata": {
  "kernelspec": {
   "display_name": "Python 3.10.0 ('MLinFin')",
   "language": "python",
   "name": "python3"
  },
  "language_info": {
   "codemirror_mode": {
    "name": "ipython",
    "version": 3
   },
   "file_extension": ".py",
   "mimetype": "text/x-python",
   "name": "python",
   "nbconvert_exporter": "python",
   "pygments_lexer": "ipython3",
   "version": "3.10.0 (default, Mar  3 2022, 03:57:21) [Clang 12.0.0 ]"
  },
  "orig_nbformat": 4,
  "vscode": {
   "interpreter": {
    "hash": "2572c6a2b2e4e239d642d5c7ebe2be28c48a9dbca43f9e21b56d3b106b2cf02d"
   }
  }
 },
 "nbformat": 4,
 "nbformat_minor": 2
}
