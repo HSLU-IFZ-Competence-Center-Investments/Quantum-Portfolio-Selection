{
 "cells": [
  {
   "cell_type": "markdown",
   "metadata": {},
   "source": [
    "# Portfolio Optimization\n",
    "### For https://www.hslu.ch/de-ch/hochschule-luzern/forschung/projekte/detail/?pid=5520"
   ]
  },
  {
   "cell_type": "code",
   "execution_count": 1,
   "metadata": {},
   "outputs": [],
   "source": [
    "import numpy as np\n",
    "import pandas as pd\n",
    "\n",
    "from qiskit.circuit import QuantumCircuit\n",
    "from qiskit.tools.visualization import plot_histogram\n",
    "\n",
    "from utils.phase_estimator import get_phase_estimation\n",
    "from utils.grover import GroverSolver\n",
    "from utils.counting import get_count\n",
    "from utils.misc import execute_circ,simulator"
   ]
  },
  {
   "cell_type": "markdown",
   "metadata": {},
   "source": [
    "## V1 (based on https://github.com/ix-stefstet/qaif/blob/master/src/py/SharpeRatioWithQuantumCounting.py)\n",
    "only two assets are considered"
   ]
  },
  {
   "cell_type": "code",
   "execution_count": 2,
   "metadata": {},
   "outputs": [],
   "source": [
    "no_of_assets_to_consider = 2 # right now only 2 is supported\n",
    "\n",
    "data = pd.read_excel('utils/port_opt_data.xlsx')\n",
    "\n",
    "returns = data.iloc[1:,1:no_of_assets_to_consider+1].pct_change().dropna()\n",
    "mu = returns.mean().values[:,None]\n",
    "\n",
    "cov = returns.cov().values\n",
    "\n",
    "f_risk = lambda x: np.einsum('...i,...i->...', x.T.dot(cov), x.T)\n",
    "f_return = lambda x: np.dot(mu.T,x).ravel()\n",
    "\n",
    "def get_sharpe(w):\n",
    "    portf_return = f_return(w).item()\n",
    "    portf_std = np.sqrt(f_risk(w))\n",
    "    return portf_return/portf_std\n",
    "\n",
    "def precalculate_solutions(ws,s_threshold): return [i for i,w in enumerate(ws) if get_sharpe(w)>s_threshold]"
   ]
  },
  {
   "cell_type": "code",
   "execution_count": 3,
   "metadata": {},
   "outputs": [
    {
     "name": "stdout",
     "output_type": "stream",
     "text": [
      "(Classical Calculation) The portfolio with the best sharpe ratio is: portfolio no. 6\n",
      "---------------------------------------------\n",
      "s_above: 0.5 , s_threshold: 0.25, s_below: 0\n",
      "Winning portfolios:  [] -> 0 / 16\n",
      "theta:  0.0 pi\n",
      "Measured #Sol  | Error Bound   \n",
      "0.0            | 0.13          \n",
      "---------------------------------------------\n",
      "s_above: 0.25 , s_threshold: 0.125, s_below: 0\n",
      "Winning portfolios:  [2, 3, 4, 5, 6, 7, 8, 9, 10, 11] -> 10 / 16\n",
      "theta:  0.375 pi\n",
      "Measured #Sol  | Error Bound   \n",
      "10.0           | 7.29          \n",
      "---------------------------------------------\n",
      "s_above: 0.25 , s_threshold: 0.1875, s_below: 0.125\n",
      "Winning portfolios:  [] -> 0 / 16\n",
      "theta:  0.0 pi\n",
      "Measured #Sol  | Error Bound   \n",
      "0.0            | 0.13          \n",
      "---------------------------------------------\n",
      "s_above: 0.1875 , s_threshold: 0.15625, s_below: 0.125\n",
      "Winning portfolios:  [] -> 0 / 16\n",
      "theta:  0.0 pi\n",
      "Measured #Sol  | Error Bound   \n",
      "0.0            | 0.13          \n",
      "---------------------------------------------\n",
      "s_above: 0.15625 , s_threshold: 0.140625, s_below: 0.125\n",
      "Winning portfolios:  [5, 6, 7] -> 3 / 16\n",
      "theta:  0.4375 pi\n",
      "Measured #Sol  | Error Bound   \n",
      "3.0            | 2.04          \n",
      "---------------------------------------------\n",
      "s_above: 0.15625 , s_threshold: 0.1484375, s_below: 0.140625\n",
      "Winning portfolios:  [] -> 0 / 16\n",
      "theta:  0.0 pi\n",
      "Measured #Sol  | Error Bound   \n",
      "0.0            | 0.13          \n",
      "---------------------------------------------\n",
      "s_above: 0.1484375 , s_threshold: 0.14453125, s_below: 0.140625\n",
      "Winning portfolios:  [] -> 0 / 16\n",
      "theta:  0.0 pi\n",
      "Measured #Sol  | Error Bound   \n",
      "0.0            | 0.13          \n",
      "---------------------------------------------\n",
      "s_above: 0.14453125 , s_threshold: 0.142578125, s_below: 0.140625\n",
      "Winning portfolios:  [6] -> 1 / 16\n",
      "theta:  0.25 pi\n",
      "Measured #Sol  | Error Bound   \n",
      "1.0            | 1.33          \n",
      "--------------------------------------------- \n",
      "\n",
      "Number of calls to the oracle: 2\n",
      "(Quantum Calculation) The portfolio with the best sharpe ratio is: portfolio no. 6\n"
     ]
    },
    {
     "data": {
      "image/png": "[encoded data removed]",
      "text/plain": [
       "<Figure size 504x360 with 1 Axes>"
      ]
     },
     "execution_count": 3,
     "metadata": {},
     "output_type": "execute_result"
    }
   ],
   "source": [
    "s_above = 0.5\n",
    "s_below = 0\n",
    "\n",
    "success_chance = 0.8\n",
    "bit_accuracy = 2\n",
    "n = 4 # number of grover qubits. 2**n portfolios will be considered\n",
    "ws = [np.array([w1,1-w1]) for w1 in np.linspace(0,1,2**n)] # N = 2**n many portfolios\n",
    "\n",
    "print('(Classical Calculation) The portfolio with the best sharpe ratio is: portfolio no.',np.argmax([*map(get_sharpe,ws)]))\n",
    "\n",
    "# Adjust the grover operator with (classically) obtained oracles at each iteration, \n",
    "# until the portfolio with the highest sharpe ratio is found, bzw. its corresponding grover operator\n",
    "no_of_solutions = 0\n",
    "while abs(s_above - s_below) > 0.01 or no_of_solutions == 0:\n",
    "    print('-' * 45)\n",
    "\n",
    "    s_threshold = (s_above + s_below) / 2\n",
    "    print(f\"s_above: {s_above} , s_threshold: {s_threshold}, s_below: {s_below}\")\n",
    "\n",
    "    solutions = precalculate_solutions(ws,s_threshold)\n",
    "    print('Winning portfolios: ',solutions, '->',len(solutions),'/', 2**n)\n",
    "\n",
    "\n",
    "    grov_sol = GroverSolver(solutions)\n",
    "    grover_op = grov_sol['grover_op']\n",
    "\n",
    "    no_of_solutions, theta, err = get_count(bit_accuracy,success_chance,grover_op)\n",
    "\n",
    "    # It gives pi +/- (theoretical) theta bcs we are using -U_s in Grover. The plus/minus comes from the positive/negative phased eigenvalue\n",
    "    theta = abs(np.pi-theta)\n",
    "    print('theta: ', theta/np.pi,'pi')\n",
    "\n",
    "    no_of_solutions = round(no_of_solutions)\n",
    "\n",
    "    print('%-14s | %-14s' % ('Measured #Sol', 'Error Bound'))\n",
    "    print('%-14.1f | %-14.2f' % (no_of_solutions, err))\n",
    "\n",
    "    if no_of_solutions == 0:\n",
    "        s_above = s_threshold\n",
    "    else:\n",
    "        s_below = s_threshold\n",
    "\n",
    "print('-' * 45,'\\n')\n",
    "\n",
    "# Now that we have found the correct grover op, we can do amplification. \n",
    "# We also use the theta, which we have found during Quantum Counting, for determining the number of calls to the oracle.\n",
    "n = grover_op.num_qubits\n",
    "t = round(0.5 * (np.pi/theta - 1)) if theta != 0 else 0\n",
    "print('Number of calls to the oracle:',t)\n",
    "circ = QuantumCircuit(n)\n",
    "circ.h(circ.qubits)\n",
    "for _ in range(t):\n",
    "    circ.append(grover_op.to_gate(),circ.qubits)\n",
    "\n",
    "circ.measure_all()\n",
    "\n",
    "counts = execute_circ(circ,simulator).get_counts(circ)\n",
    "\n",
    "print('(Quantum Calculation) The portfolio with the best sharpe ratio is: portfolio no.',int(max(counts, key=counts.get),2))\n",
    "\n",
    "plot_histogram(counts)\n"
   ]
  }
 ],
 "metadata": {
  "kernelspec": {
   "display_name": "Python 3.10.0 ('MLinFin')",
   "language": "python",
   "name": "python3"
  },
  "language_info": {
   "codemirror_mode": {
    "name": "ipython",
    "version": 3
   },
   "file_extension": ".py",
   "mimetype": "text/x-python",
   "name": "python",
   "nbconvert_exporter": "python",
   "pygments_lexer": "ipython3",
   "version": "3.10.0"
  },
  "orig_nbformat": 4,
  "vscode": {
   "interpreter": {
    "hash": "2572c6a2b2e4e239d642d5c7ebe2be28c48a9dbca43f9e21b56d3b106b2cf02d"
   }
  }
 },
 "nbformat": 4,
 "nbformat_minor": 2
}
